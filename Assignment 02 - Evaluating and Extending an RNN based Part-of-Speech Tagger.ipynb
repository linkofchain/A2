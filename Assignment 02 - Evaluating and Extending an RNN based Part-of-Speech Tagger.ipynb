{
  "cells": [
    {
      "cell_type": "markdown",
      "metadata": {
        "id": "GgPqt4p1y36p"
      },
      "source": [
        "# Assignment 2: Evaluating and Extending an RNN based Part-of-Speech Tagger\n",
        "\n",
        "*version 2024.1, bugs might be patched after publication, you will be notified if this happens*\n",
        "\n",
        "When solving a new problem (or an old problem on a new data set), there are often some \"shoulders of giants\" to stand on. Your first step is often to look for recent and/or well cited papers, and try to download someone's code for solving a similar problem to the one you are faced with. The challenge is as much about understanding and adapting already existing code as it is about theoretical knowledge and scientific creativity.\n",
        "\n",
        "For this assignment, you start with a working pipeline for PoS tagging using LSTMs and mini-batch training. Your task is to evaluate the model on a number of sources in different languages, and extend it with new functionality. First, the neural model represents your tokens as non-pretrained embedding vectors. Then the sequences of embedding vectors are passed through an LSTM layer. Finally, the outputs from the recurrent layer are transformed to probabilities over PoS tags by passing them through a fully connected layer and a softmax. You will have to refactor (i.e. rearrange the code) and extend the model by adding some commonly used properties, e.g. bi-directionality (see the list of suggestions below).\n",
        "\n",
        "The familiar Brown corpus is used for the reference implementation. This corpus should not be used in your submission.\n",
        "\n",
        "## Submission\n",
        "\n",
        "Please submit your code as a notebook through studium. Your submission must satisfy the following requirements:\n",
        "\n",
        "1. A working implementation of your pipeline, reproducing your principal results when run (including downloading any data). Please ensure that outputs are stored in the notebook (preferably by rerunning your notebook as the last thing you do before submitting).\n",
        "2. Comment the code properly, especially for longer or opaque functionality. Please try to write self documenting code (e.g. choosing descriptive variables names, refactor to isolate functionality and minimize code duplication). This will also help you debug your code.\n",
        "4. Comments on what you thought was hard in the assignment, what you think was educational, what took most time, and which parts might be unnecessarily tricky.\n",
        "5. As the submission is anonymous, **all personal information must be removed**.\n",
        "6. Apart from sections and titles, please remove all unnecessary text and code from the notebook you hand in (e.g., this instuction). Keep only that which strengthens the case that you fulfil the goals for the grade that you want.\n",
        "\n",
        "\n",
        "## Requirements for grade G\n",
        "\n",
        "To achieve a pass (G) on this assignment, you must solve the following tasks without serious errors:\n",
        "\n",
        "1. Extend the given model in at least three of the ways listed in the *extensions* section. State clearly which ones you have implemented.\n",
        "2. Include a short (250-500 words) qualitative analysis in your submission. Discuss the performance difference between languages/genres and design choices. You can spread this in the notebook or put them in one place.\n",
        "3. Refactor the given model as a class (including relevant preprocessing, forward/backward pass etc). Your model class should follow the sklearn API where possible.\n",
        "4. Not all languages require the same model complexity for PoS tagging. Some might need a higher dimensionality for the embedding or layers for the model to perform well. Briefly explore the relation between model complexity and accuracy. (Note that the goal is to examine model properties, not to get state-of-the-art accuracy)\n",
        "5. In your quantitative evaluation, use some genre of text in three languages from the [universal dependencies](https://universaldependencies.org/) project (UD). These will be in the familiar `.conllu` format. Parse the files to get the words (not lemmas).\n",
        "6. Network accuracy for one model doesn't say much about how well a model performs. For some problems, 90% accuracy is easy to achieve, while for other problems 40% is state of the art. Establish a baseline accuracy (in code) and compare your results to it.\n",
        "7. The training and testing data must be kept separate. This means that you could be forced to process unknown tokens from the test data. You should find some way of handling these out-of-vocabulary words (OOV).\n",
        "\n",
        "\n",
        "### Additional requirements for grade VG\n",
        "\n",
        "For a pass with distinction grade (VG), you should extend your analysis to include all the items under *extensions*. In addition, prepare (and hand in) a short presentation in pdf format (2-4 slides, 200-500 word synopsis) presenting some of your results, design choices, and data sources. You can make your life easier by choosing a language that you speak, test different pipeline alternatives and genres, and, finally, show your results and interpret them.\n",
        "\n",
        "\n",
        "### Extensions\n",
        "\n",
        "1. There are other types of RNNs layers commonly used in NLP. Add the option to use a GRU layer instead of an LSTM layer, and include this in your performance comparison.\n",
        "2. The given implementation only allows for dependencies from left to right. Add the option to use a bi-directional RNN layer.\n",
        "3. Use pyTorch's `Dataset` and `DataLoader` classes for loading the data. [This tutorial](https://pytorch.org/tutorials/beginner/data_loading_tutorial.html) is a good starting point. Proper data loaders makes it easier to loop over data sets.\n",
        "4. Try some type of data augmentation in your training data (e.g. masking random tokens). This should theoretically increase the generalizability of your model. How much augmentation is too much?\n",
        "5. Implement some level of regularization in your model. This can be implemented in several ways, e.g. dropout or weight decay. Briefly argue for the choices you made and show how network preformance might change with the rate of regularization.\n",
        "6. Add more sources. Either from different genres and/or adding more languages. A suggestion is to try how languages with very different levels of morphological richness (e.g. English vs Finnish) requires more or less training data, or how well a model trained on academic english does on news text. The total number of sources should be above 10.\n",
        "7. Compare performace using UD's universal vs language specific tag sets.\n",
        "\n",
        "*Note that fully evaluating all combinations of the extensions is not required. It is enough to do some structured testing of extensions and then, for example, go on to compare the tag sets on the best model configuration. This is an exercise in extending and evaluating a model, not in finding the patience to wait for your computer to finish grid searching over alternatives.*\n",
        "\n",
        "\n",
        "## General advice\n",
        "\n",
        "Work from the given code and change one piece at a time, ensuring functionality throughout your work. You should test your code every couple of lines to make sure your assumptions on functionality and variable content are correct. A good rule of thumb is that a coder will introduce a bug every five lines (even as a professional).\n",
        "\n",
        "To make sure your code does what it's supposed to do, use ```assert``` statements to check your assumptions. Keep the given asserts if you need them. Professional coders sometimes start with writing tests for some functionality instead of starting with the functionality itself. This is called *test-driven development*.\n",
        "\n",
        "Using a platform with a GPU will be very helpful.\n",
        "\n",
        "Finally, remember the great motto **RTFM**. It will save you in the future.\n",
        "\n",
        "\n",
        "## Plagiarism\n",
        "\n",
        "In code assignments, plagiarism is a tricky concept. A clean cut way would be to demand that you write all the code yourself, from memory, with only the assigned literature as help. This is not how code is developed professionally though. It is common to copy and share. However, since this is a learning exercise, you must implement everything on your own, but please look at the course repo, Stack Overflow etc. Moreover, discuss with course mates and TAs to find inspiration and solutions. Code that is *obviously* copied (with minor modifications) will be considered as plagiarized. As a part of the examination, you might be asked to explain any particular part of the functionality in your implementation."
      ]
    },
    {
      "cell_type": "code",
      "execution_count": 1,
      "metadata": {
        "id": "qDDstzhwztQS"
      },
      "outputs": [],
      "source": [
        "# Our standard imports for maths and basic methodology\n",
        "import numpy as np\n",
        "from sklearn.model_selection import train_test_split\n",
        "\n",
        "# For user feedback\n",
        "from tqdm import tqdm\n",
        "import matplotlib.pyplot as plt\n",
        "\n",
        "# Imports for pytorch\n",
        "import torch\n",
        "import torch.nn as nn"
      ]
    },
    {
      "cell_type": "markdown",
      "metadata": {
        "id": "Okj6Den-4-Wd"
      },
      "source": [
        "Let's see if we have a GPU."
      ]
    },
    {
      "cell_type": "code",
      "execution_count": 2,
      "metadata": {
        "colab": {
          "base_uri": "https://localhost:8080/"
        },
        "id": "nYGiUxG746pz",
        "outputId": "d7fe4f46-3b24-437c-eb0b-30cfb3bc8609"
      },
      "outputs": [
        {
          "output_type": "stream",
          "name": "stdout",
          "text": [
            "Tesla T4\n"
          ]
        }
      ],
      "source": [
        "if torch.cuda.is_available():\n",
        "  for i in range(torch.cuda.device_count()):\n",
        "    print(torch.cuda.get_device_name(i))\n",
        "else:\n",
        "  print(\"No GPU available\")"
      ]
    },
    {
      "cell_type": "markdown",
      "metadata": {
        "id": "hO0m41-MzJRc"
      },
      "source": [
        "## Load tagging data\n",
        "\n",
        "The following downloads the [Brown corpus](https://en.wikipedia.org/wiki/Brown_Corpus). This data is only here to demonstrate the network below."
      ]
    },
    {
      "cell_type": "code",
      "execution_count": 3,
      "metadata": {
        "colab": {
          "base_uri": "https://localhost:8080/"
        },
        "id": "l67a4Qnr5ac7",
        "outputId": "9b8ba0ff-4a9b-49a1-d861-9e10d9648c1d"
      },
      "outputs": [
        {
          "output_type": "stream",
          "name": "stderr",
          "text": [
            "[nltk_data] Downloading package brown to /root/nltk_data...\n",
            "[nltk_data]   Unzipping corpora/brown.zip.\n",
            "[nltk_data] Downloading package universal_tagset to /root/nltk_data...\n",
            "[nltk_data]   Unzipping taggers/universal_tagset.zip.\n"
          ]
        },
        {
          "output_type": "stream",
          "name": "stdout",
          "text": [
            "Loaded 56283 sentences\n",
            "[('The', 'DET'), ('Fulton', 'NOUN'), ('County', 'NOUN'), ('Grand', 'ADJ'), ('Jury', 'NOUN'), ('said', 'VERB'), ('Friday', 'NOUN'), ('an', 'DET'), ('investigation', 'NOUN'), ('of', 'ADP'), (\"Atlanta's\", 'NOUN'), ('recent', 'ADJ'), ('primary', 'NOUN'), ('election', 'NOUN'), ('produced', 'VERB'), ('``', '.'), ('no', 'DET'), ('evidence', 'NOUN'), (\"''\", '.'), ('that', 'ADP'), ('any', 'DET'), ('irregularities', 'NOUN'), ('took', 'VERB'), ('place', 'NOUN'), ('.', '.')]\n"
          ]
        }
      ],
      "source": [
        "import nltk\n",
        "nltk.download('brown')\n",
        "from nltk.corpus import brown\n",
        "nltk.download('universal_tagset')\n",
        "\n",
        "sentences = brown.tagged_sents(tagset='universal')                        # Load the data\n",
        "sentences = [sentence for sentence in sentences if len(sentence) > 2]     # Remove very short sentences\n",
        "\n",
        "print(\"Loaded %i sentences\" % len(sentences))\n",
        "print(sentences[0])"
      ]
    },
    {
      "cell_type": "markdown",
      "metadata": {
        "id": "SOQVXabf6MH9"
      },
      "source": [
        "Preprocessing for the brow corpus. This splits the data into our standard X and y format."
      ]
    },
    {
      "cell_type": "code",
      "execution_count": 4,
      "metadata": {
        "colab": {
          "base_uri": "https://localhost:8080/"
        },
        "id": "9UuA4rJC6Hge",
        "outputId": "ec857b89-e461-498a-cd74-ab9cf42b58b9"
      },
      "outputs": [
        {
          "output_type": "stream",
          "name": "stdout",
          "text": [
            "['The', 'Fulton', 'County', 'Grand', 'Jury', 'said', 'Friday', 'an', 'investigation', 'of', \"Atlanta's\", 'recent', 'primary', 'election', 'produced', '``', 'no', 'evidence', \"''\", 'that', 'any', 'irregularities', 'took', 'place', '.']\n",
            "['DET', 'NOUN', 'NOUN', 'ADJ', 'NOUN', 'VERB', 'NOUN', 'DET', 'NOUN', 'ADP', 'NOUN', 'ADJ', 'NOUN', 'NOUN', 'VERB', '.', 'DET', 'NOUN', '.', 'ADP', 'DET', 'NOUN', 'VERB', 'NOUN', '.']\n"
          ]
        }
      ],
      "source": [
        "X = [[token for token, tag in sentence] for sentence in sentences]\n",
        "y = [[tag for token, tag in sentence] for sentence in sentences]\n",
        "\n",
        "assert len(X) == len(y)\n",
        "\n",
        "print(X[0])\n",
        "print(y[0])"
      ]
    },
    {
      "cell_type": "code",
      "execution_count": 5,
      "metadata": {
        "colab": {
          "base_uri": "https://localhost:8080/"
        },
        "id": "0SKxeDs2seHV",
        "outputId": "ff1d297b-806c-469e-9b6d-0da7a06ef75b"
      },
      "outputs": [
        {
          "output_type": "stream",
          "name": "stdout",
          "text": [
            "The training set includes 50654 sentences\n",
            "The test set includes 5629 sentences\n"
          ]
        }
      ],
      "source": [
        "X_train, X_test, y_train, y_test = train_test_split(X, y, test_size=0.1, random_state=0)\n",
        "\n",
        "assert len(X_train) == len(y_train)\n",
        "assert len(X_test) == len(y_test)\n",
        "assert len(X_train)+len(X_test) == len(X)\n",
        "\n",
        "print(\"The training set includes %i sentences\" % len(X_train))\n",
        "print(\"The test set includes %i sentences\" % len(X_test))"
      ]
    },
    {
      "cell_type": "markdown",
      "metadata": {
        "id": "TlL3-sS57GeE"
      },
      "source": [
        "Most sentences are short, but some are very long."
      ]
    },
    {
      "cell_type": "code",
      "execution_count": 6,
      "metadata": {
        "colab": {
          "base_uri": "https://localhost:8080/",
          "height": 388
        },
        "id": "Z25i9_UxtUeR",
        "outputId": "f0046aa3-47df-4d0f-cde8-b051e3e8e0ac"
      },
      "outputs": [
        {
          "output_type": "display_data",
          "data": {
            "text/plain": [
              "<Figure size 800x400 with 1 Axes>"
            ],
            "image/png": "[encoded data removed]"
          },
          "metadata": {}
        }
      ],
      "source": [
        "l = np.asarray([len(x) for x in X], dtype=int)\n",
        "plt.figure(figsize=(8, 4))\n",
        "x = np.unique(l)\n",
        "plt.bar(x, [np.sum(l==e) for e in x], width=1)\n",
        "plt.xlabel(\"Sentence length\")\n",
        "plt.ylabel(\"# sentences\")\n",
        "plt.show()"
      ]
    },
    {
      "cell_type": "markdown",
      "metadata": {
        "id": "fHIiYxLyz2cf"
      },
      "source": [
        "## Data encoding and padding"
      ]
    },
    {
      "cell_type": "code",
      "execution_count": 7,
      "metadata": {
        "colab": {
          "base_uri": "https://localhost:8080/"
        },
        "id": "9fjVkyDOP9MU",
        "outputId": "f1c43361-362e-436b-f105-8564c7fe5fd8"
      },
      "outputs": [
        {
          "output_type": "stream",
          "name": "stdout",
          "text": [
            "['<UNK>', 'deloused', 'cables', 'spite', 'ebullient', 'quitting', 'iced', \"dog's\", 'subfigures', 'Apology', 'alabaster', 'copiously', 'politic', 'Vermouth', 'Presidents']\n",
            "['CONJ', 'ADJ', 'X', '.', 'PRON', 'PRT', 'ADV', 'VERB', 'NUM', 'NOUN', 'ADP', 'DET', '<PAD>']\n"
          ]
        }
      ],
      "source": [
        "tokens = {token for sentence in X_train for token in sentence}\n",
        "idx2token = list(tokens)\n",
        "idx2token.insert(0, '<UNK>')\n",
        "idx2token.append('<PAD>')\n",
        "token2idx = {token:idx for idx, token in enumerate(idx2token)}\n",
        "\n",
        "tags = {tag for tags in y_train for tag in tags}\n",
        "idx2tag = list(tags)\n",
        "idx2tag.append('<PAD>')\n",
        "tag2idx = {tag:idx for idx, tag in enumerate(idx2tag)}\n",
        "\n",
        "print(idx2token[:15])\n",
        "print(idx2tag)"
      ]
    },
    {
      "cell_type": "code",
      "execution_count": 8,
      "metadata": {
        "colab": {
          "base_uri": "https://localhost:8080/"
        },
        "id": "PdgiIDVP9Brw",
        "outputId": "809f5b04-fe8f-439e-d532-fdfdd6c9c999"
      },
      "outputs": [
        {
          "output_type": "stream",
          "name": "stdout",
          "text": [
            "tensor([[21288, 22501, 40313, 37927, 47240, 39049, 22553, 11343,  1207, 19081,\n",
            "         22553, 11343, 12180, 22553, 42582, 14099, 33342, 53337, 53337, 53337,\n",
            "         53337, 53337, 53337, 53337, 53337, 53337, 53337, 53337, 53337],\n",
            "        [ 9334, 25224, 41596, 51587, 33166, 34471,  2898, 14654, 13363, 26089,\n",
            "         14970, 25357, 41596, 44923, 14777, 45659,  2898, 13651, 13363,  8570,\n",
            "          4064, 19026, 26164, 28822, 13450, 22553, 45659, 29955, 33342],\n",
            "        [14988, 45888, 18172, 44011, 44923, 50149, 45983, 41596,  3838, 24137,\n",
            "          3838, 14988, 18571, 40319, 33342, 53337, 53337, 53337, 53337, 53337,\n",
            "         53337, 53337, 53337, 53337, 53337, 53337, 53337, 53337, 53337],\n",
            "        [ 9722, 35128, 14680, 50193, 44923, 41092, 35128, 14680, 20585, 33342,\n",
            "         53337, 53337, 53337, 53337, 53337, 53337, 53337, 53337, 53337, 53337,\n",
            "         53337, 53337, 53337, 53337, 53337, 53337, 53337, 53337, 53337],\n",
            "        [34613, 48149, 11343, 35032, 41596, 48149, 11343,  3638, 41596, 48905,\n",
            "         11343, 42220, 41596, 35554, 44923, 27999, 41596, 44923, 22794,  6561,\n",
            "         14678, 21710, 11426, 11343, 17628, 15475, 45659,  9184, 33342]])\n",
            "tensor([[11,  9,  7, 11,  1,  9, 10, 11,  1,  9, 10, 11,  9, 10, 11,  1,  3, 12,\n",
            "         12, 12, 12, 12, 12, 12, 12, 12, 12, 12, 12],\n",
            "        [10,  5,  3,  9,  7, 11,  3,  1,  3,  0,  1,  9,  3,  0,  6, 11,  3,  1,\n",
            "          3,  9,  7,  7,  7, 10, 11, 10, 11,  9,  3],\n",
            "        [ 4,  7,  1,  7,  0,  7,  6,  3,  6,  1, 10,  4,  7,  6,  3, 12, 12, 12,\n",
            "         12, 12, 12, 12, 12, 12, 12, 12, 12, 12, 12],\n",
            "        [ 9,  7,  4,  7,  0,  9,  7,  4,  6,  3, 12, 12, 12, 12, 12, 12, 12, 12,\n",
            "         12, 12, 12, 12, 12, 12, 12, 12, 12, 12, 12],\n",
            "        [ 4,  7, 11,  9,  3,  7, 11,  9,  3,  7, 11,  9,  3,  9,  0,  7,  3,  0,\n",
            "          6,  7, 11,  9, 10, 11,  9, 10, 11,  9,  3]])\n"
          ]
        }
      ],
      "source": [
        "def pad_and_encode(sentences, labels):\n",
        "  assert len(sentences)==len(labels)\n",
        "  assert np.all([len(sentence)==len(tags) for sentence, tags in zip(sentences, labels)])\n",
        "  max_sentence_length = np.max([len(sentence) for sentence in sentences]) # Find out how much to pad\n",
        "  padded_sentences = torch.zeros(len(sentences), max_sentence_length,     # Create data structures with <PAD> as default\n",
        "                                 dtype=torch.long)\n",
        "  padded_sentences[:] = token2idx['<PAD>']\n",
        "  padded_labels = torch.zeros(len(sentences), max_sentence_length,\n",
        "                              dtype=torch.long)\n",
        "  padded_labels[:] = tag2idx['<PAD>']\n",
        "  for i, (sentence, tags) in enumerate(zip(sentences, labels)):               # Loop over the data\n",
        "    for j, token in enumerate(sentence):\n",
        "      if token in token2idx.keys():\n",
        "        padded_sentences[i, j] = token2idx[token]\n",
        "      else:\n",
        "        padded_sentences[i, j] = token2idx['<UNK>']\n",
        "    for j, tag in enumerate(tags):\n",
        "      padded_labels[i, j] = tag2idx[tag]\n",
        "  return padded_sentences, padded_labels\n",
        "\n",
        "a, b = pad_and_encode(X_train[:5], y_train[:5])\n",
        "print(a)\n",
        "print(b)"
      ]
    },
    {
      "cell_type": "code",
      "execution_count": 9,
      "metadata": {
        "colab": {
          "base_uri": "https://localhost:8080/"
        },
        "id": "RbZWgBRAGWQa",
        "outputId": "cde537f8-0a9e-40b4-898a-4160e62e9430"
      },
      "outputs": [
        {
          "output_type": "execute_result",
          "data": {
            "text/plain": [
              "(tensor([[21288, 22501, 40313, 37927, 47240, 39049, 22553, 11343,  1207, 19081,\n",
              "          22553, 11343, 12180, 22553, 42582, 14099, 33342, 53337, 53337, 53337,\n",
              "          53337, 53337, 53337, 53337, 53337, 53337, 53337, 53337, 53337],\n",
              "         [ 9334, 25224, 41596, 51587, 33166, 34471,  2898, 14654, 13363, 26089,\n",
              "          14970, 25357, 41596, 44923, 14777, 45659,  2898, 13651, 13363,  8570,\n",
              "           4064, 19026, 26164, 28822, 13450, 22553, 45659, 29955, 33342],\n",
              "         [14988, 45888, 18172, 44011, 44923, 50149, 45983, 41596,  3838, 24137,\n",
              "           3838, 14988, 18571, 40319, 33342, 53337, 53337, 53337, 53337, 53337,\n",
              "          53337, 53337, 53337, 53337, 53337, 53337, 53337, 53337, 53337],\n",
              "         [ 9722, 35128, 14680, 50193, 44923, 41092, 35128, 14680, 20585, 33342,\n",
              "          53337, 53337, 53337, 53337, 53337, 53337, 53337, 53337, 53337, 53337,\n",
              "          53337, 53337, 53337, 53337, 53337, 53337, 53337, 53337, 53337],\n",
              "         [34613, 48149, 11343, 35032, 41596, 48149, 11343,  3638, 41596, 48905,\n",
              "          11343, 42220, 41596, 35554, 44923, 27999, 41596, 44923, 22794,  6561,\n",
              "          14678, 21710, 11426, 11343, 17628, 15475, 45659,  9184, 33342]],\n",
              "        device='cuda:0'),\n",
              " tensor([[11,  9,  7, 11,  1,  9, 10, 11,  1,  9, 10, 11,  9, 10, 11,  1,  3, 12,\n",
              "          12, 12, 12, 12, 12, 12, 12, 12, 12, 12, 12],\n",
              "         [10,  5,  3,  9,  7, 11,  3,  1,  3,  0,  1,  9,  3,  0,  6, 11,  3,  1,\n",
              "           3,  9,  7,  7,  7, 10, 11, 10, 11,  9,  3],\n",
              "         [ 4,  7,  1,  7,  0,  7,  6,  3,  6,  1, 10,  4,  7,  6,  3, 12, 12, 12,\n",
              "          12, 12, 12, 12, 12, 12, 12, 12, 12, 12, 12],\n",
              "         [ 9,  7,  4,  7,  0,  9,  7,  4,  6,  3, 12, 12, 12, 12, 12, 12, 12, 12,\n",
              "          12, 12, 12, 12, 12, 12, 12, 12, 12, 12, 12],\n",
              "         [ 4,  7, 11,  9,  3,  7, 11,  9,  3,  7, 11,  9,  3,  9,  0,  7,  3,  0,\n",
              "           6,  7, 11,  9, 10, 11,  9, 10, 11,  9,  3]], device='cuda:0'))"
            ]
          },
          "metadata": {},
          "execution_count": 9
        }
      ],
      "source": [
        "def batch_iterator(sentences, labels, batch_size=64):\n",
        "  \"\"\"Helper function for iterating over batches of the data\"\"\"\n",
        "  assert len(sentences) == len(labels)\n",
        "  for i in range(0, len(sentences), batch_size):\n",
        "    X, y = pad_and_encode(sentences[i:min(i+batch_size, len(sentences))],\n",
        "                          labels[i:min(i+batch_size, len(sentences))])\n",
        "    if torch.cuda.is_available():                                               # Move data to the GPU, if possible, before yielding it\n",
        "      yield (X.cuda(), y.cuda())\n",
        "    else:\n",
        "      yield (X, y)\n",
        "\n",
        "next(batch_iterator(X_train, y_train, batch_size=5))"
      ]
    },
    {
      "cell_type": "markdown",
      "metadata": {
        "id": "ZmgbWbsJk8DW"
      },
      "source": [
        "## Model"
      ]
    },
    {
      "cell_type": "code",
      "execution_count": 10,
      "metadata": {
        "colab": {
          "base_uri": "https://localhost:8080/"
        },
        "id": "SwU6cWT2AqT6",
        "outputId": "e93f0d4a-a878-4057-b5a7-9058b56149a6"
      },
      "outputs": [
        {
          "output_type": "stream",
          "name": "stdout",
          "text": [
            "LSTMTagger(\n",
            "  (_word_embedding): Embedding(53338, 32, padding_idx=53337)\n",
            "  (_lstm): LSTM(32, 64, batch_first=True)\n",
            "  (_fc): Linear(in_features=64, out_features=12, bias=True)\n",
            "  (_softmax): LogSoftmax(dim=1)\n",
            ")\n"
          ]
        }
      ],
      "source": [
        "class LSTMTagger(nn.Module):\n",
        "  def __init__(self, word_embedding_dim, lstm_hidden_dim, vocabulary_size, tagset_size):\n",
        "    \"\"\"An LSTM based tagger\n",
        "\n",
        "    word_embedding_dim\n",
        "      The dimensionality of the word embedding\n",
        "    lstm_hidden_dim\n",
        "      The dimensionality of the hidden state in the LSTM\n",
        "    vocabulary_size\n",
        "      The number of unique tokens in the word embedding (including <PAD> etc)\n",
        "    tagset_size\n",
        "      The number of unique POS tags (not including <PAD>, as we don't want to predict it)\n",
        "    \"\"\"\n",
        "    super(LSTMTagger, self).__init__()                                          # We need to initialise the class we are inheriting from\n",
        "    self.lstm_hidden_dim_ = lstm_hidden_dim                                     # This simply stores the parameters\n",
        "    self.vocabulary_size_ = vocabulary_size\n",
        "    self.tagset_size_ = tagset_size\n",
        "\n",
        "    self._word_embedding = nn.Embedding(num_embeddings=vocabulary_size,         # Creates the vector space for the input words\n",
        "                                         embedding_dim=word_embedding_dim,\n",
        "                                         padding_idx=token2idx['<PAD>'])\n",
        "    self._lstm = nn.LSTM(input_size=word_embedding_dim,                         # The LSTM takes an embedded sentence as input, and outputs\n",
        "                         hidden_size=lstm_hidden_dim,                           # vectors with dimensionality lstm_hidden_dim.\n",
        "                         batch_first=True)\n",
        "    self._fc = nn.Linear(lstm_hidden_dim, tagset_size)                          # The linear layer maps from the RNN output space to tag space\n",
        "    self._softmax = nn.LogSoftmax(dim=1)                                        # Softmax of outputting PDFs over tags\n",
        "\n",
        "    self.training_loss_ = list()                                                # For plotting\n",
        "    self.training_accuracy_ = list()\n",
        "\n",
        "    if torch.cuda.is_available():                                               # Move the model to the GPU (if we have one)\n",
        "      self.cuda()\n",
        "\n",
        "  def forward(self, padded_sentences):\n",
        "    \"\"\"The forward pass through the network\"\"\"\n",
        "    batch_size, max_sentence_length = padded_sentences.size()\n",
        "\n",
        "    embedded_sentences = self._word_embedding(padded_sentences)                 # Sentences encoded as integers are mapped to vectors\n",
        "\n",
        "    sentence_lengths = (padded_sentences!=token2idx['<PAD>']).sum(dim=1)        # Find the length of sentences\n",
        "    sentence_lengths = sentence_lengths.long().cpu()                            # Ensure the correct format\n",
        "    X = nn.utils.rnn.pack_padded_sequence(embedded_sentences, sentence_lengths, # Pack the embedded data\n",
        "                                          batch_first=True, enforce_sorted=False)\n",
        "    lstm_out, _ = self._lstm(X)                                                 # Run the LSTM layer\n",
        "    X, _ = nn.utils.rnn.pad_packed_sequence(lstm_out, batch_first=True)         # Unpack the output from the LSTM\n",
        "\n",
        "    X = X.contiguous().view(-1, X.shape[2])                                     # The output from the LSTM layer is flattened\n",
        "    tag_space = self._fc(X)                                                     # Fully connected layer\n",
        "    tag_scores = self._softmax(tag_space)                                       # Softmax is applied to normalise the outputs\n",
        "    return tag_scores.view(batch_size, max_sentence_length, self.tagset_size_)\n",
        "\n",
        "\n",
        "model = LSTMTagger(word_embedding_dim=32,                                       # Dimensionality of the work embedding\n",
        "                   lstm_hidden_dim=64,                                          # Dimensionality of the hidden state in the LSTM\n",
        "                   vocabulary_size=len(token2idx),                              # The vocabulary incudes both the 'padding' and 'unknown' symbols\n",
        "                   tagset_size=len(tag2idx)-1)                                  # We have no interest in the network outputting the padding symbol\n",
        "print(model)"
      ]
    },
    {
      "cell_type": "markdown",
      "metadata": {
        "id": "pEZlbcallbff"
      },
      "source": [
        "## Network training"
      ]
    },
    {
      "cell_type": "code",
      "execution_count": 11,
      "metadata": {
        "colab": {
          "base_uri": "https://localhost:8080/"
        },
        "id": "IVBW4NNNOwY5",
        "outputId": "42bc9702-01f1-4d61-8044-730bed449e22"
      },
      "outputs": [
        {
          "output_type": "stream",
          "name": "stderr",
          "text": [
            "Epoch 0: 100%|██████████| 198/198 [00:25<00:00,  7.64batch/s, accuracy=92.8, loss=0.206]\n",
            "Epoch 1: 100%|██████████| 198/198 [00:24<00:00,  8.18batch/s, accuracy=95.8, loss=0.117]\n",
            "Epoch 2: 100%|██████████| 198/198 [00:24<00:00,  8.22batch/s, accuracy=97.3, loss=0.0812]\n",
            "Epoch 3: 100%|██████████| 198/198 [00:25<00:00,  7.75batch/s, accuracy=97.6, loss=0.0629]\n",
            "Epoch 4: 100%|██████████| 198/198 [00:24<00:00,  8.05batch/s, accuracy=98, loss=0.0522]\n"
          ]
        }
      ],
      "source": [
        "loss_function = nn.NLLLoss(ignore_index=tag2idx['<PAD>'])                       # A loss function that fits our choice of output layer and data. The\n",
        "                                                                                # loss function will ignore the padding index in the targets.\n",
        "optimizer = torch.optim.Adam(model.parameters(), lr=0.01)                                # We give the optimiser the parameters to work with, note that we can choose to only give some parameters\n",
        "\n",
        "batch_size = 256                                                                # Define the size of each batch\n",
        "for epoch in range(5):                                                          # Times to loop over the full dataset\n",
        "  with tqdm(batch_iterator(X_train, y_train, batch_size=batch_size),\n",
        "            total=len(X_train)//batch_size+1, unit=\"batch\", desc=\"Epoch %i\" % epoch) as batches:\n",
        "    for inputs, targets in batches:                                             # Loop once over the training data\n",
        "      model.zero_grad()                                                         # Reset gradients\n",
        "      scores = model(inputs)                                                    # Forward pass\n",
        "      loss = loss_function(scores.view(-1, model.tagset_size_),                 # Get loss, the data is reshaped as a long line of predictions and targets\n",
        "                           targets.view(-1))\n",
        "      loss.backward()                                                           # Backpropagate the error\n",
        "      optimizer.step()                                                          # Run the optimizer to change the weights w.r.t the loss\n",
        "      predictions = scores.argmax(dim=2, keepdim=True).squeeze()                # Calculate the batch training accuracy\n",
        "      mask = targets!=tag2idx['<PAD>']                                          # Create a mask for ignoring <PAD> in the targets\n",
        "      correct = (predictions[mask] == targets[mask]).sum().item()               # Item pulls the value from the GPU automatically (if needed)\n",
        "      accuracy = correct / mask.sum().item()*100\n",
        "      model.training_accuracy_.append(accuracy)                                 # Save the accuracy for plotting\n",
        "      model.training_loss_.append(loss.item())                                  # Save the loss for plotting\n",
        "      batches.set_postfix(loss=loss.item(), accuracy=accuracy)                  # Update the progress bar"
      ]
    },
    {
      "cell_type": "markdown",
      "metadata": {
        "id": "fSf4AVZislgg"
      },
      "source": [
        "We can plot the stored loss over epochs."
      ]
    },
    {
      "cell_type": "code",
      "execution_count": 12,
      "metadata": {
        "colab": {
          "base_uri": "https://localhost:8080/",
          "height": 407
        },
        "id": "m6rd8T0_q24D",
        "outputId": "5686a9c5-f097-4fb5-8946-593a5b26e9c2"
      },
      "outputs": [
        {
          "output_type": "display_data",
          "data": {
            "text/plain": [
              "<Figure size 600x400 with 2 Axes>"
            ],
            "image/png": "[encoded data removed]"
          },
          "metadata": {}
        }
      ],
      "source": [
        "fig = plt.figure(figsize=(6, 4))\n",
        "ax = plt.subplot()\n",
        "ax.set_title(\"Plot of the (hopefully) decreasing loss over epochs\")\n",
        "ax.plot(model.training_loss_, 'b-')\n",
        "ax.set_ylabel(\"Training Loss\", color='b')\n",
        "ax.set_xlabel(\"Epoch\")\n",
        "# ax.set_yscale('log')\n",
        "ax.tick_params(axis='y', labelcolor='b')\n",
        "ax = ax.twinx()\n",
        "ax.plot(model.training_accuracy_, 'r-')\n",
        "ax.set_ylabel(\"Accuracy [%]\", color='r')\n",
        "ax.tick_params(axis='y', labelcolor='r')\n",
        "a = list(ax.axis())\n",
        "a[2] = 0\n",
        "a[3] = 100\n",
        "ax.axis(a)\n",
        "t = np.arange(0, len(model.training_accuracy_), len(X_train)//batch_size+1)\n",
        "ax.set_xticks(ticks=t)\n",
        "ax.set_xticklabels(labels=np.arange(len(t)))\n",
        "fig.tight_layout()\n",
        "plt.show()"
      ]
    },
    {
      "cell_type": "markdown",
      "metadata": {
        "id": "PUDy6CJKcMSh"
      },
      "source": [
        "## Test data accuracy\n",
        "\n",
        "This shows that the model sort of works. A per sentence accuracy would be better while being able to also analyse the predictions qualitatively would be best."
      ]
    },
    {
      "cell_type": "code",
      "execution_count": 13,
      "metadata": {
        "colab": {
          "base_uri": "https://localhost:8080/"
        },
        "id": "48fkSBgEBnFd",
        "outputId": "3e79d7e4-5c07-4374-9648-2ef90bcea233"
      },
      "outputs": [
        {
          "output_type": "stream",
          "name": "stdout",
          "text": [
            "Test accuracy 95.8%\n"
          ]
        }
      ],
      "source": [
        "with torch.no_grad():                                                           # Do not use the following forward passes to calculate a gradient\n",
        "  n_correct = 0\n",
        "  n_total = 0\n",
        "  for inputs, targets in batch_iterator(X_test, y_test, batch_size=batch_size): # Loop once over the test data\n",
        "    scores = model(inputs)                                                      # Runs the test data through the model\n",
        "    predictions = scores.argmax(dim=2, keepdim=True).squeeze()                  # Finds the predictions\n",
        "    mask = targets!=tag2idx['<PAD>']                                            # Create a mask for ignoring <PAD> in the targets\n",
        "    n_correct += (predictions[mask] == targets[mask]).sum().item()              # Sums the number of correct predictions\n",
        "    n_total += mask.sum().item()\n",
        "print(\"Test accuracy %.1f%%\" % (100*n_correct/n_total))"
      ]
    }
  ],
  "metadata": {
    "accelerator": "GPU",
    "colab": {
      "provenance": []
    },
    "kernelspec": {
      "display_name": "Python 3",
      "language": "python",
      "name": "python3"
    },
    "language_info": {
      "codemirror_mode": {
        "name": "ipython",
        "version": 3
      },
      "file_extension": ".py",
      "mimetype": "text/x-python",
      "name": "python",
      "nbconvert_exporter": "python",
      "pygments_lexer": "ipython3",
      "version": "3.8.3"
    }
  },
  "nbformat": 4,
  "nbformat_minor": 0
}